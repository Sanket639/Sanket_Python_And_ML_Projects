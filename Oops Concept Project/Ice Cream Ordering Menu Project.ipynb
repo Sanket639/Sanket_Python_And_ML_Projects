{
 "cells": [
  {
   "cell_type": "code",
   "execution_count": 1,
   "id": "05941f2f-e001-4382-921e-950d6cba99ce",
   "metadata": {},
   "outputs": [
    {
     "name": "stdout",
     "output_type": "stream",
     "text": [
      "\n",
      "Welcome to the Ice Cream Parlor!\n",
      "Available Sizes:\n",
      "1. Small\n",
      "2. Large\n"
     ]
    },
    {
     "name": "stdin",
     "output_type": "stream",
     "text": [
      "Enter the size you want (small/large):  large\n"
     ]
    },
    {
     "name": "stdout",
     "output_type": "stream",
     "text": [
      "\n",
      "Cost of a large ice cream (without toppings): $17\n",
      "\n",
      "Available Flavours:\n",
      "1. Vanilla\n",
      "2. Chocolate\n",
      "3. Butterscotch\n",
      "4. Blueberry\n"
     ]
    },
    {
     "name": "stdin",
     "output_type": "stream",
     "text": [
      "Which flavour do you want? (Vanilla/Chocolate/Butterscotch/Blueberry):  Chocolate\n"
     ]
    },
    {
     "name": "stdout",
     "output_type": "stream",
     "text": [
      "\n",
      "Selected flavour: Chocolate\n",
      "\n",
      "Available Toppings:\n",
      "1. Hot Fudge\n",
      "2. Sprinkles\n",
      "3. Caramel\n",
      "4. Oreos\n",
      "5. Nuts\n"
     ]
    },
    {
     "name": "stdin",
     "output_type": "stream",
     "text": [
      "Enter the toppings you want with a space between two toppings:  Oreo Nuts\n"
     ]
    },
    {
     "name": "stdout",
     "output_type": "stream",
     "text": [
      "\n",
      "The toppings you selected are: Oreo, Nuts\n",
      "\n",
      "Total cost of your toppings: $4\n",
      "\n",
      "===== Order Summary =====\n",
      "Ice Cream Size: Small\n",
      "Flavour: Chocolate\n",
      "Toppings: Oreo, Nuts\n",
      "Cost of Ice Cream: $17\n",
      "Cost of Toppings: $4\n",
      "Total Order Cost: $21\n",
      "=========================\n"
     ]
    },
    {
     "name": "stdin",
     "output_type": "stream",
     "text": [
      "\n",
      "Would you like to place another order? (yes/no):  no\n"
     ]
    },
    {
     "name": "stdout",
     "output_type": "stream",
     "text": [
      "\n",
      "Thanks for shopping with us! Enjoy your ice cream!\n"
     ]
    }
   ],
   "source": [
    "import math\n",
    "from math import ceil\n",
    "\n",
    "# Ice Cream Base Class\n",
    "class IceCream:\n",
    "    def __init__(self):\n",
    "        self.r_small = 1.5  # Radius of small-sized ice cream\n",
    "        self.r_large = 2.5  # Radius of large-sized ice cream\n",
    "        self.pi = 3.14\n",
    "\n",
    "    def calculate_icecream_cost(self):\n",
    "        print(\"\\nWelcome to the Ice Cream Parlor!\")\n",
    "        print(\"Available Sizes:\\n1. Small\\n2. Large\")\n",
    "        ice_cream_size = input('Enter the size you want (small/large): ').lower()\n",
    "\n",
    "        # Calculate volume and cost based on the size selected\n",
    "        if ice_cream_size == 'small':\n",
    "            volume_of_icecream = (2/3) * self.pi * self.r_small**3\n",
    "            cost = 0.5 * volume_of_icecream\n",
    "            self.round_cost = ceil(cost)\n",
    "            print(f\"\\nCost of a small ice cream (without toppings): ${self.round_cost}\")\n",
    "        elif ice_cream_size == 'large':\n",
    "            volume_of_icecream = (2/3) * self.pi * self.r_large**3\n",
    "            cost = 0.5 * volume_of_icecream\n",
    "            self.round_cost = ceil(cost)\n",
    "            print(f\"\\nCost of a large ice cream (without toppings): ${self.round_cost}\")\n",
    "        else:\n",
    "            print(\"Invalid size selected. Please start again.\")\n",
    "            self.round_cost = 0\n",
    "\n",
    "    def select_flavour(self):\n",
    "        print(\"\\nAvailable Flavours:\\n1. Vanilla\\n2. Chocolate\\n3. Butterscotch\\n4. Blueberry\")\n",
    "        ice_cream_flavour = input('Which flavour do you want? (Vanilla/Chocolate/Butterscotch/Blueberry): ').title()\n",
    "        self.ice_cream_flavour = ice_cream_flavour\n",
    "        print(f\"\\nSelected flavour: {self.ice_cream_flavour}\")\n",
    "\n",
    "# Toppings Class\n",
    "class Toppings:\n",
    "    def select_toppings(self):\n",
    "        print(\"\\nAvailable Toppings:\\n1. Hot Fudge\\n2. Sprinkles\\n3. Caramel\\n4. Oreos\\n5. Nuts\")\n",
    "        select_toppings = input(\"Enter the toppings you want with a space between two toppings: \")\n",
    "        self.your_toppings = select_toppings.split()\n",
    "        print(f\"\\nThe toppings you selected are: {', '.join(self.your_toppings)}\")\n",
    "\n",
    "        # Calculate the cost of toppings\n",
    "        self.total_toppings = len(self.your_toppings)\n",
    "        self.cost_of_toppings = 2 * self.total_toppings\n",
    "        print(f\"\\nTotal cost of your toppings: ${self.cost_of_toppings}\")\n",
    "\n",
    "# IceCreamOrder Class inheriting from both IceCream and Toppings\n",
    "class IceCreamOrder(IceCream, Toppings):\n",
    "    def __init__(self):\n",
    "        super().__init__()\n",
    "\n",
    "    def display_order_summary(self):\n",
    "        total_order_cost = self.round_cost + self.cost_of_toppings\n",
    "        print(\"\\n===== Order Summary =====\")\n",
    "        print(f\"Ice Cream Size: {'Small' if self.r_small else 'Large'}\")\n",
    "        print(f\"Flavour: {self.ice_cream_flavour}\")\n",
    "        print(f\"Toppings: {', '.join(self.your_toppings)}\")\n",
    "        print(f\"Cost of Ice Cream: ${self.round_cost}\")\n",
    "        print(f\"Cost of Toppings: ${self.cost_of_toppings}\")\n",
    "        print(f\"Total Order Cost: ${total_order_cost}\")\n",
    "        print(\"=========================\")\n",
    "\n",
    "    def place_order(self):\n",
    "        self.calculate_icecream_cost()\n",
    "        if self.round_cost > 0:  # Proceed only if a valid size was chosen\n",
    "            self.select_flavour()\n",
    "            self.select_toppings()\n",
    "            self.display_order_summary()\n",
    "            self.check_for_another_order()\n",
    "\n",
    "    def check_for_another_order(self):\n",
    "        another_order = input(\"\\nWould you like to place another order? (yes/no): \").lower()\n",
    "        if another_order == 'yes':\n",
    "            print(\"\\nStarting a new order...\")\n",
    "            self.place_order()\n",
    "        elif another_order == 'no':\n",
    "            print(\"\\nThanks for shopping with us! Enjoy your ice cream!\")\n",
    "        else:\n",
    "            print(\"Invalid input. Please try again.\")\n",
    "            self.check_for_another_order()\n",
    "\n",
    "# Main function to start the ordering process\n",
    "def main():\n",
    "    order = IceCreamOrder()\n",
    "    order.place_order()\n",
    "\n",
    "# Run the program\n",
    "if __name__ == \"__main__\":\n",
    "    main()\n"
   ]
  },
  {
   "cell_type": "code",
   "execution_count": null,
   "id": "6f7fb255-8714-466d-b325-50033d937483",
   "metadata": {},
   "outputs": [],
   "source": []
  }
 ],
 "metadata": {
  "kernelspec": {
   "display_name": "Python 3 (ipykernel)",
   "language": "python",
   "name": "python3"
  },
  "language_info": {
   "codemirror_mode": {
    "name": "ipython",
    "version": 3
   },
   "file_extension": ".py",
   "mimetype": "text/x-python",
   "name": "python",
   "nbconvert_exporter": "python",
   "pygments_lexer": "ipython3",
   "version": "3.11.7"
  }
 },
 "nbformat": 4,
 "nbformat_minor": 5
}
