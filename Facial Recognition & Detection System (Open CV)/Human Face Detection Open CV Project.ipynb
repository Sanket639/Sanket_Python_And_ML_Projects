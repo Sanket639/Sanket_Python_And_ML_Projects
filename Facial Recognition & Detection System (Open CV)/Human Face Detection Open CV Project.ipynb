{
 "cells": [
  {
   "cell_type": "code",
   "execution_count": 1,
   "id": "12df8fed-e1a9-4737-ad38-405e259f2a01",
   "metadata": {},
   "outputs": [
    {
     "name": "stdout",
     "output_type": "stream",
     "text": [
      "Requirement already satisfied: opencv-python in c:\\users\\2001s\\anaconda3\\lib\\site-packages (4.10.0.84)\n",
      "Requirement already satisfied: numpy>=1.21.2 in c:\\users\\2001s\\anaconda3\\lib\\site-packages (from opencv-python) (1.26.4)\n",
      "Note: you may need to restart the kernel to use updated packages.\n"
     ]
    }
   ],
   "source": [
    "pip install opencv-python"
   ]
  },
  {
   "cell_type": "code",
   "execution_count": 2,
   "id": "b2b9ad01-8501-430b-8652-65f3adb74aa1",
   "metadata": {},
   "outputs": [
    {
     "name": "stdout",
     "output_type": "stream",
     "text": [
      "[[ 901  185   60   60]\n",
      " [ 990  178   60   60]\n",
      " [ 125  192   62   62]\n",
      " [ 348  204   65   65]\n",
      " [ 378  258   89   89]\n",
      " [ 567  274   78   78]\n",
      " [1274  334   82   82]\n",
      " [1487  240  109  109]\n",
      " [1188  304  124  124]\n",
      " [ 525  437   94   94]\n",
      " [ 774  364   99   99]\n",
      " [1387  393  140  140]\n",
      " [ 382  435  138  138]\n",
      " [1098  443  121  121]\n",
      " [   1  665  190  190]\n",
      " [1234  155   60   60]\n",
      " [ 969  487  149  149]\n",
      " [1287  222   78   78]\n",
      " [1268  760   70   70]\n",
      " [ 451  639  209  209]\n",
      " [1382   82   52   52]]\n"
     ]
    },
    {
     "data": {
      "text/plain": [
       "True"
      ]
     },
     "execution_count": 2,
     "metadata": {},
     "output_type": "execute_result"
    }
   ],
   "source": [
    "import cv2  # Import the OpenCV library\n",
    "\n",
    "# Read the image from the given file path. '1' means load the image in color.\n",
    "image = cv2.imread('humans (1).jpeg', 1)\n",
    "\n",
    "# Load the pre-trained Haar Cascade classifier for face detection from an XML file.\n",
    "face_cascade = cv2.CascadeClassifier('faces (1).xml')\n",
    "\n",
    "# Detect faces in the image using the detectMultiScale method.\n",
    "# Parameters:\n",
    "# - 'image': the image in which to look for faces.\n",
    "# - '1.1': the scale factor, specifying how much the image size is reduced at each image scale.\n",
    "# - '4': the minNeighbors parameter, which specifies how many neighbors each rectangle should have to retain it.\n",
    "faces = face_cascade.detectMultiScale(image, 1.1, 4)\n",
    "\n",
    "# Print the coordinates of the detected faces.\n",
    "# Each face is represented as a rectangle [x, y, w, h], where (x, y) is the top-left corner, \n",
    "# and 'w' and 'h' are the width and height of the rectangle.\n",
    "print(faces)\n",
    "\n",
    "# Iterate over each detected face and draw a rectangle around it.\n",
    "# 'x' and 'y' represent the top-left corner, 'w' is the width, and 'h' is the height of the rectangle.\n",
    "for (x, y, w, h) in faces:\n",
    "    # Draw a white rectangle around each face in the image.\n",
    "    # Parameters:\n",
    "    # - 'image': the image on which to draw.\n",
    "    # - '(x, y)': the top-left corner of the rectangle.\n",
    "    # - '(x+w, y+h)': the bottom-right corner of the rectangle.\n",
    "    # - '(255, 255, 255)': the color of the rectangle (white in BGR format).\n",
    "    # - '4': the thickness of the rectangle lines.\n",
    "    cv2.rectangle(image, (x, y), (x + w, y + h), (255, 255, 255), 4)\n",
    "\n",
    "# Save the modified image with detected faces to a new file.\n",
    "cv2.imwrite('human_faces_detection.jpeg', image)\n"
   ]
  },
  {
   "cell_type": "code",
   "execution_count": null,
   "id": "f7a53f25-1aa7-471e-a8b1-9b0fba2e4612",
   "metadata": {},
   "outputs": [],
   "source": []
  }
 ],
 "metadata": {
  "kernelspec": {
   "display_name": "Python 3 (ipykernel)",
   "language": "python",
   "name": "python3"
  },
  "language_info": {
   "codemirror_mode": {
    "name": "ipython",
    "version": 3
   },
   "file_extension": ".py",
   "mimetype": "text/x-python",
   "name": "python",
   "nbconvert_exporter": "python",
   "pygments_lexer": "ipython3",
   "version": "3.11.7"
  }
 },
 "nbformat": 4,
 "nbformat_minor": 5
}
